{
 "cells": [
  {
   "cell_type": "code",
   "execution_count": 1,
   "metadata": {},
   "outputs": [],
   "source": [
    "import numpy as np\n",
    "import pandas as pd\n",
    "import matplotlib.pyplot as plt\n",
    "import seaborn as sns\n",
    "import statsmodels.api as stats\n",
    "from sklearn.linear_model import SGDRegressor\n",
    "from sklearn.preprocessing import StandardScaler"
   ]
  },
  {
   "cell_type": "code",
   "execution_count": 5,
   "metadata": {},
   "outputs": [],
   "source": [
    "sns.set_style('whitegrid')\n",
    "pd.options.display.float_format = '{:,.2f}'.format"
   ]
  },
  {
   "cell_type": "code",
   "execution_count": 8,
   "metadata": {},
   "outputs": [
    {
     "data": {
      "text/plain": [
       "array([ 17.87804679,  23.9438922 ,  14.22006754, -35.38977362,\n",
       "        23.77753827, -48.74717676, -14.28991191, -14.27735277,\n",
       "        16.43237599,   5.12852189, -36.60538795,  -5.30778954,\n",
       "        -4.54468443,  -3.00485616,   5.18348392,  -3.30096808,\n",
       "        25.39720921, -21.82481179,  -8.13643047, -60.04686757,\n",
       "         5.96422189,  10.80030728, -11.86219634,  18.14923417,\n",
       "         4.07010124,  38.73062844, -10.89960663,  35.38816018,\n",
       "         4.66474945,  11.19328828, -12.89611333,  -4.44180284,\n",
       "        -6.37206166,  22.60838152,  -1.86032497,  12.19712231,\n",
       "       -32.3255888 ,  34.63390553,  29.79782036,  22.53683564,\n",
       "         3.99058734,  -6.74153522, -18.56334695,  -2.23990399,\n",
       "        -9.38820495,  43.46668246, -23.68733915, -20.05247777,\n",
       "        -2.47605262,   9.10344473,  35.80640549,  -3.21682678,\n",
       "         4.58145255,   9.0862698 ,  37.2092074 ,  31.46430119,\n",
       "       -22.42762352,   3.65718995, -40.36986334,  -6.83406843,\n",
       "       -33.16512645,  15.08128214,  -7.89560274,   6.72233636,\n",
       "        26.04123997,  30.64140225,  -0.90843966,  -1.66151203,\n",
       "        13.22225079, -22.6579989 ,  -0.99412284, -28.52801162,\n",
       "       -15.89462116,  39.66563402,   3.2476542 ,   8.81538732,\n",
       "        15.76281725,  -2.89459496,  44.53909615,  16.51720169,\n",
       "         3.49313821,  23.69214318, -23.93372806, -18.60631768,\n",
       "       -24.65210727,   9.48065189, -19.09933211,  13.68215685,\n",
       "       -16.99725407, -13.45404138,  -4.48040251,  21.04140233,\n",
       "        -1.82308394,  -2.10034648,   2.64360769,  -1.2155193 ,\n",
       "        20.10278646,  22.81457862,   5.20691092,  34.83084546])"
      ]
     },
     "execution_count": 8,
     "metadata": {},
     "output_type": "execute_result"
    }
   ],
   "source": [
    "np.random.normal(0,20,size=100)"
   ]
  },
  {
   "cell_type": "code",
   "execution_count": 16,
   "metadata": {},
   "outputs": [
    {
     "data": {
      "image/png": "[encoded data removed]",
      "text/plain": [
       "<Figure size 1008x432 with 1 Axes>"
      ]
     },
     "metadata": {},
     "output_type": "display_data"
    }
   ],
   "source": [
    "x = np.linspace(-5,50,100)\n",
    "y = 50 + 2*x + np.random.normal(0,20, size=len(x))\n",
    "data = pd.DataFrame({'X': x, 'Y': y})\n",
    "ax = data.plot.scatter(x='X', y='Y', figsize=(14,6))\n",
    "sns.despine()\n",
    "plt.tight_layout()"
   ]
  },
  {
   "cell_type": "code",
   "execution_count": 19,
   "metadata": {},
   "outputs": [
    {
     "data": {
      "text/plain": [
       "0     44.65\n",
       "1     15.73\n",
       "2     22.11\n",
       "3     53.91\n",
       "4     19.74\n",
       "      ...  \n",
       "95   133.16\n",
       "96   157.59\n",
       "97   139.96\n",
       "98   154.82\n",
       "99   136.95\n",
       "Name: Y, Length: 100, dtype: float64"
      ]
     },
     "execution_count": 19,
     "metadata": {},
     "output_type": "execute_result"
    }
   ],
   "source": [
    "data['X']\n",
    "data['Y']"
   ]
  },
  {
   "cell_type": "code",
   "execution_count": 21,
   "metadata": {},
   "outputs": [
    {
     "data": {
      "text/html": [
       "<div>\n",
       "<style scoped>\n",
       "    .dataframe tbody tr th:only-of-type {\n",
       "        vertical-align: middle;\n",
       "    }\n",
       "\n",
       "    .dataframe tbody tr th {\n",
       "        vertical-align: top;\n",
       "    }\n",
       "\n",
       "    .dataframe thead th {\n",
       "        text-align: right;\n",
       "    }\n",
       "</style>\n",
       "<table border=\"1\" class=\"dataframe\">\n",
       "  <thead>\n",
       "    <tr style=\"text-align: right;\">\n",
       "      <th></th>\n",
       "      <th>const</th>\n",
       "      <th>X</th>\n",
       "    </tr>\n",
       "  </thead>\n",
       "  <tbody>\n",
       "    <tr>\n",
       "      <th>0</th>\n",
       "      <td>1.00</td>\n",
       "      <td>-5.00</td>\n",
       "    </tr>\n",
       "    <tr>\n",
       "      <th>1</th>\n",
       "      <td>1.00</td>\n",
       "      <td>-4.44</td>\n",
       "    </tr>\n",
       "    <tr>\n",
       "      <th>2</th>\n",
       "      <td>1.00</td>\n",
       "      <td>-3.89</td>\n",
       "    </tr>\n",
       "    <tr>\n",
       "      <th>3</th>\n",
       "      <td>1.00</td>\n",
       "      <td>-3.33</td>\n",
       "    </tr>\n",
       "    <tr>\n",
       "      <th>4</th>\n",
       "      <td>1.00</td>\n",
       "      <td>-2.78</td>\n",
       "    </tr>\n",
       "    <tr>\n",
       "      <th>...</th>\n",
       "      <td>...</td>\n",
       "      <td>...</td>\n",
       "    </tr>\n",
       "    <tr>\n",
       "      <th>95</th>\n",
       "      <td>1.00</td>\n",
       "      <td>47.78</td>\n",
       "    </tr>\n",
       "    <tr>\n",
       "      <th>96</th>\n",
       "      <td>1.00</td>\n",
       "      <td>48.33</td>\n",
       "    </tr>\n",
       "    <tr>\n",
       "      <th>97</th>\n",
       "      <td>1.00</td>\n",
       "      <td>48.89</td>\n",
       "    </tr>\n",
       "    <tr>\n",
       "      <th>98</th>\n",
       "      <td>1.00</td>\n",
       "      <td>49.44</td>\n",
       "    </tr>\n",
       "    <tr>\n",
       "      <th>99</th>\n",
       "      <td>1.00</td>\n",
       "      <td>50.00</td>\n",
       "    </tr>\n",
       "  </tbody>\n",
       "</table>\n",
       "<p>100 rows × 2 columns</p>\n",
       "</div>"
      ],
      "text/plain": [
       "    const     X\n",
       "0    1.00 -5.00\n",
       "1    1.00 -4.44\n",
       "2    1.00 -3.89\n",
       "3    1.00 -3.33\n",
       "4    1.00 -2.78\n",
       "..    ...   ...\n",
       "95   1.00 47.78\n",
       "96   1.00 48.33\n",
       "97   1.00 48.89\n",
       "98   1.00 49.44\n",
       "99   1.00 50.00\n",
       "\n",
       "[100 rows x 2 columns]"
      ]
     },
     "execution_count": 21,
     "metadata": {},
     "output_type": "execute_result"
    }
   ],
   "source": [
    "X = stats.add_constant(data['X'])\n",
    "X"
   ]
  },
  {
   "cell_type": "code",
   "execution_count": 23,
   "metadata": {},
   "outputs": [
    {
     "name": "stdout",
     "output_type": "stream",
     "text": [
      "                            OLS Regression Results                            \n",
      "==============================================================================\n",
      "Dep. Variable:                      Y   R-squared:                       0.722\n",
      "Model:                            OLS   Adj. R-squared:                  0.719\n",
      "Method:                 Least Squares   F-statistic:                     253.9\n",
      "Date:                Thu, 20 Jan 2022   Prob (F-statistic):           5.86e-29\n",
      "Time:                        17:16:49   Log-Likelihood:                -435.93\n",
      "No. Observations:                 100   AIC:                             875.9\n",
      "Df Residuals:                      98   BIC:                             881.1\n",
      "Df Model:                           1                                         \n",
      "Covariance Type:            nonrobust                                         \n",
      "==============================================================================\n",
      "                 coef    std err          t      P>|t|      [0.025      0.975]\n",
      "------------------------------------------------------------------------------\n",
      "const         51.4021      3.293     15.608      0.000      44.866      57.938\n",
      "X              1.8994      0.119     15.935      0.000       1.663       2.136\n",
      "==============================================================================\n",
      "Omnibus:                        2.057   Durbin-Watson:                   1.680\n",
      "Prob(Omnibus):                  0.358   Jarque-Bera (JB):                1.942\n",
      "Skew:                           0.337   Prob(JB):                        0.379\n",
      "Kurtosis:                       2.890   Cond. No.                         47.6\n",
      "==============================================================================\n",
      "\n",
      "Notes:\n",
      "[1] Standard Errors assume that the covariance matrix of the errors is correctly specified.\n"
     ]
    }
   ],
   "source": [
    "model = stats.OLS(data['Y'], X).fit()\n",
    "print(model.summary())"
   ]
  },
  {
   "cell_type": "code",
   "execution_count": 25,
   "metadata": {},
   "outputs": [
    {
     "data": {
      "text/plain": [
       "array([51.4020502 ,  1.89939194])"
      ]
     },
     "execution_count": 25,
     "metadata": {},
     "output_type": "execute_result"
    }
   ],
   "source": [
    "beta = np.linalg.inv(X.T.dot(X)).dot(X.T.dot(y))\n",
    "beta"
   ]
  },
  {
   "cell_type": "code",
   "execution_count": 28,
   "metadata": {},
   "outputs": [
    {
     "data": {
      "text/plain": [
       "const   51.40\n",
       "X        1.90\n",
       "dtype: float64"
      ]
     },
     "execution_count": 28,
     "metadata": {},
     "output_type": "execute_result"
    }
   ],
   "source": [
    "pd.Series(beta, index=X.columns)"
   ]
  },
  {
   "cell_type": "code",
   "execution_count": 30,
   "metadata": {},
   "outputs": [
    {
     "data": {
      "text/html": [
       "<div>\n",
       "<style scoped>\n",
       "    .dataframe tbody tr th:only-of-type {\n",
       "        vertical-align: middle;\n",
       "    }\n",
       "\n",
       "    .dataframe tbody tr th {\n",
       "        vertical-align: top;\n",
       "    }\n",
       "\n",
       "    .dataframe thead th {\n",
       "        text-align: right;\n",
       "    }\n",
       "</style>\n",
       "<table border=\"1\" class=\"dataframe\">\n",
       "  <thead>\n",
       "    <tr style=\"text-align: right;\">\n",
       "      <th></th>\n",
       "      <th>X</th>\n",
       "      <th>Y</th>\n",
       "      <th>y-hat</th>\n",
       "      <th>residuals</th>\n",
       "    </tr>\n",
       "  </thead>\n",
       "  <tbody>\n",
       "    <tr>\n",
       "      <th>0</th>\n",
       "      <td>-5.00</td>\n",
       "      <td>44.65</td>\n",
       "      <td>41.91</td>\n",
       "      <td>2.75</td>\n",
       "    </tr>\n",
       "    <tr>\n",
       "      <th>1</th>\n",
       "      <td>-4.44</td>\n",
       "      <td>15.73</td>\n",
       "      <td>42.96</td>\n",
       "      <td>-27.23</td>\n",
       "    </tr>\n",
       "    <tr>\n",
       "      <th>2</th>\n",
       "      <td>-3.89</td>\n",
       "      <td>22.11</td>\n",
       "      <td>44.02</td>\n",
       "      <td>-21.90</td>\n",
       "    </tr>\n",
       "    <tr>\n",
       "      <th>3</th>\n",
       "      <td>-3.33</td>\n",
       "      <td>53.91</td>\n",
       "      <td>45.07</td>\n",
       "      <td>8.84</td>\n",
       "    </tr>\n",
       "    <tr>\n",
       "      <th>4</th>\n",
       "      <td>-2.78</td>\n",
       "      <td>19.74</td>\n",
       "      <td>46.13</td>\n",
       "      <td>-26.39</td>\n",
       "    </tr>\n",
       "    <tr>\n",
       "      <th>...</th>\n",
       "      <td>...</td>\n",
       "      <td>...</td>\n",
       "      <td>...</td>\n",
       "      <td>...</td>\n",
       "    </tr>\n",
       "    <tr>\n",
       "      <th>95</th>\n",
       "      <td>47.78</td>\n",
       "      <td>133.16</td>\n",
       "      <td>142.15</td>\n",
       "      <td>-8.99</td>\n",
       "    </tr>\n",
       "    <tr>\n",
       "      <th>96</th>\n",
       "      <td>48.33</td>\n",
       "      <td>157.59</td>\n",
       "      <td>143.21</td>\n",
       "      <td>14.38</td>\n",
       "    </tr>\n",
       "    <tr>\n",
       "      <th>97</th>\n",
       "      <td>48.89</td>\n",
       "      <td>139.96</td>\n",
       "      <td>144.26</td>\n",
       "      <td>-4.30</td>\n",
       "    </tr>\n",
       "    <tr>\n",
       "      <th>98</th>\n",
       "      <td>49.44</td>\n",
       "      <td>154.82</td>\n",
       "      <td>145.32</td>\n",
       "      <td>9.50</td>\n",
       "    </tr>\n",
       "    <tr>\n",
       "      <th>99</th>\n",
       "      <td>50.00</td>\n",
       "      <td>136.95</td>\n",
       "      <td>146.37</td>\n",
       "      <td>-9.43</td>\n",
       "    </tr>\n",
       "  </tbody>\n",
       "</table>\n",
       "<p>100 rows × 4 columns</p>\n",
       "</div>"
      ],
      "text/plain": [
       "       X      Y  y-hat  residuals\n",
       "0  -5.00  44.65  41.91       2.75\n",
       "1  -4.44  15.73  42.96     -27.23\n",
       "2  -3.89  22.11  44.02     -21.90\n",
       "3  -3.33  53.91  45.07       8.84\n",
       "4  -2.78  19.74  46.13     -26.39\n",
       "..   ...    ...    ...        ...\n",
       "95 47.78 133.16 142.15      -8.99\n",
       "96 48.33 157.59 143.21      14.38\n",
       "97 48.89 139.96 144.26      -4.30\n",
       "98 49.44 154.82 145.32       9.50\n",
       "99 50.00 136.95 146.37      -9.43\n",
       "\n",
       "[100 rows x 4 columns]"
      ]
     },
     "execution_count": 30,
     "metadata": {},
     "output_type": "execute_result"
    }
   ],
   "source": [
    "data['y-hat'] = model.predict()\n",
    "data['residuals'] = model.resid\n",
    "data"
   ]
  },
  {
   "cell_type": "code",
   "execution_count": 31,
   "metadata": {},
   "outputs": [
    {
     "data": {
      "text/plain": [
       "<AxesSubplot:xlabel='X', ylabel='Y'>"
      ]
     },
     "execution_count": 31,
     "metadata": {},
     "output_type": "execute_result"
    },
    {
     "data": {
      "image/png": "[encoded data removed]",
      "text/plain": [
       "<Figure size 1008x432 with 1 Axes>"
      ]
     },
     "metadata": {},
     "output_type": "display_data"
    }
   ],
   "source": [
    "ax = data.plot.scatter(x='X', y='Y', c='darkgrey', figsize=(14,6))\n",
    "ax"
   ]
  },
  {
   "cell_type": "code",
   "execution_count": 38,
   "metadata": {},
   "outputs": [
    {
     "data": {
      "image/png": "[encoded data removed]",
      "text/plain": [
       "<Figure size 1008x432 with 1 Axes>"
      ]
     },
     "metadata": {},
     "output_type": "display_data"
    }
   ],
   "source": [
    "data.plot.scatter(x='X', y='y-hat', ax=ax)\n",
    "plt.figure(figsize=(14,6))\n",
    "for _, row in data.iterrows():\n",
    "    plt.plot((row.X, row.X), (row.Y, row['y-hat']), 'k-')  \n",
    "sns.despine()\n",
    "plt.tight_layout();"
   ]
  },
  {
   "cell_type": "code",
   "execution_count": 59,
   "metadata": {},
   "outputs": [
    {
     "data": {
      "text/plain": [
       "array([[ 0.        , -1.71481604],\n",
       "       [ 0.        , -1.68017329],\n",
       "       [ 0.        , -1.64553055],\n",
       "       [ 0.        , -1.6108878 ],\n",
       "       [ 0.        , -1.57624505],\n",
       "       [ 0.        , -1.5416023 ],\n",
       "       [ 0.        , -1.50695955],\n",
       "       [ 0.        , -1.4723168 ],\n",
       "       [ 0.        , -1.43767406],\n",
       "       [ 0.        , -1.40303131],\n",
       "       [ 0.        , -1.36838856],\n",
       "       [ 0.        , -1.33374581],\n",
       "       [ 0.        , -1.29910306],\n",
       "       [ 0.        , -1.26446031],\n",
       "       [ 0.        , -1.22981757],\n",
       "       [ 0.        , -1.19517482],\n",
       "       [ 0.        , -1.16053207],\n",
       "       [ 0.        , -1.12588932],\n",
       "       [ 0.        , -1.09124657],\n",
       "       [ 0.        , -1.05660382],\n",
       "       [ 0.        , -1.02196108],\n",
       "       [ 0.        , -0.98731833],\n",
       "       [ 0.        , -0.95267558],\n",
       "       [ 0.        , -0.91803283],\n",
       "       [ 0.        , -0.88339008],\n",
       "       [ 0.        , -0.84874733],\n",
       "       [ 0.        , -0.81410459],\n",
       "       [ 0.        , -0.77946184],\n",
       "       [ 0.        , -0.74481909],\n",
       "       [ 0.        , -0.71017634],\n",
       "       [ 0.        , -0.67553359],\n",
       "       [ 0.        , -0.64089084],\n",
       "       [ 0.        , -0.6062481 ],\n",
       "       [ 0.        , -0.57160535],\n",
       "       [ 0.        , -0.5369626 ],\n",
       "       [ 0.        , -0.50231985],\n",
       "       [ 0.        , -0.4676771 ],\n",
       "       [ 0.        , -0.43303435],\n",
       "       [ 0.        , -0.39839161],\n",
       "       [ 0.        , -0.36374886],\n",
       "       [ 0.        , -0.32910611],\n",
       "       [ 0.        , -0.29446336],\n",
       "       [ 0.        , -0.25982061],\n",
       "       [ 0.        , -0.22517786],\n",
       "       [ 0.        , -0.19053512],\n",
       "       [ 0.        , -0.15589237],\n",
       "       [ 0.        , -0.12124962],\n",
       "       [ 0.        , -0.08660687],\n",
       "       [ 0.        , -0.05196412],\n",
       "       [ 0.        , -0.01732137],\n",
       "       [ 0.        ,  0.01732137],\n",
       "       [ 0.        ,  0.05196412],\n",
       "       [ 0.        ,  0.08660687],\n",
       "       [ 0.        ,  0.12124962],\n",
       "       [ 0.        ,  0.15589237],\n",
       "       [ 0.        ,  0.19053512],\n",
       "       [ 0.        ,  0.22517786],\n",
       "       [ 0.        ,  0.25982061],\n",
       "       [ 0.        ,  0.29446336],\n",
       "       [ 0.        ,  0.32910611],\n",
       "       [ 0.        ,  0.36374886],\n",
       "       [ 0.        ,  0.39839161],\n",
       "       [ 0.        ,  0.43303435],\n",
       "       [ 0.        ,  0.4676771 ],\n",
       "       [ 0.        ,  0.50231985],\n",
       "       [ 0.        ,  0.5369626 ],\n",
       "       [ 0.        ,  0.57160535],\n",
       "       [ 0.        ,  0.6062481 ],\n",
       "       [ 0.        ,  0.64089084],\n",
       "       [ 0.        ,  0.67553359],\n",
       "       [ 0.        ,  0.71017634],\n",
       "       [ 0.        ,  0.74481909],\n",
       "       [ 0.        ,  0.77946184],\n",
       "       [ 0.        ,  0.81410459],\n",
       "       [ 0.        ,  0.84874733],\n",
       "       [ 0.        ,  0.88339008],\n",
       "       [ 0.        ,  0.91803283],\n",
       "       [ 0.        ,  0.95267558],\n",
       "       [ 0.        ,  0.98731833],\n",
       "       [ 0.        ,  1.02196108],\n",
       "       [ 0.        ,  1.05660382],\n",
       "       [ 0.        ,  1.09124657],\n",
       "       [ 0.        ,  1.12588932],\n",
       "       [ 0.        ,  1.16053207],\n",
       "       [ 0.        ,  1.19517482],\n",
       "       [ 0.        ,  1.22981757],\n",
       "       [ 0.        ,  1.26446031],\n",
       "       [ 0.        ,  1.29910306],\n",
       "       [ 0.        ,  1.33374581],\n",
       "       [ 0.        ,  1.36838856],\n",
       "       [ 0.        ,  1.40303131],\n",
       "       [ 0.        ,  1.43767406],\n",
       "       [ 0.        ,  1.4723168 ],\n",
       "       [ 0.        ,  1.50695955],\n",
       "       [ 0.        ,  1.5416023 ],\n",
       "       [ 0.        ,  1.57624505],\n",
       "       [ 0.        ,  1.6108878 ],\n",
       "       [ 0.        ,  1.64553055],\n",
       "       [ 0.        ,  1.68017329],\n",
       "       [ 0.        ,  1.71481604]])"
      ]
     },
     "execution_count": 59,
     "metadata": {},
     "output_type": "execute_result"
    }
   ],
   "source": [
    "scaler = StandardScaler()\n",
    "X_ = scaler.fit_transform(X)\n",
    "X_"
   ]
  },
  {
   "cell_type": "code",
   "execution_count": 43,
   "metadata": {},
   "outputs": [
    {
     "data": {
      "text/plain": [
       "SGDRegressor(random_state=42)"
      ]
     },
     "execution_count": 43,
     "metadata": {},
     "output_type": "execute_result"
    }
   ],
   "source": [
    "sgd = SGDRegressor(\n",
    "    \n",
    "    loss='squared_error',\n",
    "    fit_intercept=True,\n",
    "    shuffle=True,\n",
    "    random_state=42,\n",
    "    learning_rate='invscaling',\n",
    "    eta0=0.01,\n",
    "    power_t=0.25\n",
    ")\n",
    "\n",
    "sgd.fit(X=X_, y=y)"
   ]
  },
  {
   "cell_type": "code",
   "execution_count": 61,
   "metadata": {},
   "outputs": [
    {
     "name": "stdout",
     "output_type": "stream",
     "text": [
      "[ 1.         16.03670558] [ 1.  22.5]\n"
     ]
    },
    {
     "data": {
      "text/plain": [
       "array([  1.        , 510.59156876])"
      ]
     },
     "execution_count": 61,
     "metadata": {},
     "output_type": "execute_result"
    }
   ],
   "source": [
    "coeffs = (sgd.coef_ * scaler.scale_) + scaler.mean_\n",
    "print(scaler.scale_, scaler.mean_)\n",
    "coeffs"
   ]
  },
  {
   "cell_type": "code",
   "execution_count": 52,
   "metadata": {},
   "outputs": [
    {
     "data": {
      "text/plain": [
       "const     1.00\n",
       "X       510.59\n",
       "dtype: float64"
      ]
     },
     "execution_count": 52,
     "metadata": {},
     "output_type": "execute_result"
    }
   ],
   "source": [
    "pd.Series(coeffs, index=X.columns)"
   ]
  },
  {
   "cell_type": "code",
   "execution_count": 53,
   "metadata": {},
   "outputs": [
    {
     "data": {
      "text/html": [
       "<div>\n",
       "<style scoped>\n",
       "    .dataframe tbody tr th:only-of-type {\n",
       "        vertical-align: middle;\n",
       "    }\n",
       "\n",
       "    .dataframe tbody tr th {\n",
       "        vertical-align: top;\n",
       "    }\n",
       "\n",
       "    .dataframe thead th {\n",
       "        text-align: right;\n",
       "    }\n",
       "</style>\n",
       "<table border=\"1\" class=\"dataframe\">\n",
       "  <thead>\n",
       "    <tr style=\"text-align: right;\">\n",
       "      <th></th>\n",
       "      <th>sgd</th>\n",
       "      <th>ols</th>\n",
       "    </tr>\n",
       "  </thead>\n",
       "  <tbody>\n",
       "    <tr>\n",
       "      <th>0</th>\n",
       "      <td>2.72</td>\n",
       "      <td>2.75</td>\n",
       "    </tr>\n",
       "    <tr>\n",
       "      <th>1</th>\n",
       "      <td>-27.26</td>\n",
       "      <td>-27.23</td>\n",
       "    </tr>\n",
       "    <tr>\n",
       "      <th>2</th>\n",
       "      <td>-21.93</td>\n",
       "      <td>-21.90</td>\n",
       "    </tr>\n",
       "    <tr>\n",
       "      <th>3</th>\n",
       "      <td>8.81</td>\n",
       "      <td>8.84</td>\n",
       "    </tr>\n",
       "    <tr>\n",
       "      <th>4</th>\n",
       "      <td>-26.41</td>\n",
       "      <td>-26.39</td>\n",
       "    </tr>\n",
       "    <tr>\n",
       "      <th>...</th>\n",
       "      <td>...</td>\n",
       "      <td>...</td>\n",
       "    </tr>\n",
       "    <tr>\n",
       "      <th>95</th>\n",
       "      <td>-8.94</td>\n",
       "      <td>-8.99</td>\n",
       "    </tr>\n",
       "    <tr>\n",
       "      <th>96</th>\n",
       "      <td>14.44</td>\n",
       "      <td>14.38</td>\n",
       "    </tr>\n",
       "    <tr>\n",
       "      <th>97</th>\n",
       "      <td>-4.24</td>\n",
       "      <td>-4.30</td>\n",
       "    </tr>\n",
       "    <tr>\n",
       "      <th>98</th>\n",
       "      <td>9.56</td>\n",
       "      <td>9.50</td>\n",
       "    </tr>\n",
       "    <tr>\n",
       "      <th>99</th>\n",
       "      <td>-9.37</td>\n",
       "      <td>-9.43</td>\n",
       "    </tr>\n",
       "  </tbody>\n",
       "</table>\n",
       "<p>100 rows × 2 columns</p>\n",
       "</div>"
      ],
      "text/plain": [
       "      sgd    ols\n",
       "0    2.72   2.75\n",
       "1  -27.26 -27.23\n",
       "2  -21.93 -21.90\n",
       "3    8.81   8.84\n",
       "4  -26.41 -26.39\n",
       "..    ...    ...\n",
       "95  -8.94  -8.99\n",
       "96  14.44  14.38\n",
       "97  -4.24  -4.30\n",
       "98   9.56   9.50\n",
       "99  -9.37  -9.43\n",
       "\n",
       "[100 rows x 2 columns]"
      ]
     },
     "execution_count": 53,
     "metadata": {},
     "output_type": "execute_result"
    }
   ],
   "source": [
    "resids = pd.DataFrame(\n",
    "    \n",
    "    {\n",
    "        'sgd': y - sgd.predict(X_),\n",
    "        'ols': y - model.predict(X)\n",
    "    }   \n",
    ")\n",
    "resids"
   ]
  },
  {
   "cell_type": "code",
   "execution_count": 54,
   "metadata": {},
   "outputs": [
    {
     "data": {
      "text/html": [
       "<div>\n",
       "<style scoped>\n",
       "    .dataframe tbody tr th:only-of-type {\n",
       "        vertical-align: middle;\n",
       "    }\n",
       "\n",
       "    .dataframe tbody tr th {\n",
       "        vertical-align: top;\n",
       "    }\n",
       "\n",
       "    .dataframe thead th {\n",
       "        text-align: right;\n",
       "    }\n",
       "</style>\n",
       "<table border=\"1\" class=\"dataframe\">\n",
       "  <thead>\n",
       "    <tr style=\"text-align: right;\">\n",
       "      <th></th>\n",
       "      <th>sgd</th>\n",
       "      <th>ols</th>\n",
       "    </tr>\n",
       "  </thead>\n",
       "  <tbody>\n",
       "    <tr>\n",
       "      <th>0</th>\n",
       "      <td>2.72</td>\n",
       "      <td>2.75</td>\n",
       "    </tr>\n",
       "    <tr>\n",
       "      <th>1</th>\n",
       "      <td>-27.26</td>\n",
       "      <td>-27.23</td>\n",
       "    </tr>\n",
       "    <tr>\n",
       "      <th>2</th>\n",
       "      <td>-21.93</td>\n",
       "      <td>-21.90</td>\n",
       "    </tr>\n",
       "    <tr>\n",
       "      <th>3</th>\n",
       "      <td>8.81</td>\n",
       "      <td>8.84</td>\n",
       "    </tr>\n",
       "    <tr>\n",
       "      <th>4</th>\n",
       "      <td>-26.41</td>\n",
       "      <td>-26.39</td>\n",
       "    </tr>\n",
       "    <tr>\n",
       "      <th>...</th>\n",
       "      <td>...</td>\n",
       "      <td>...</td>\n",
       "    </tr>\n",
       "    <tr>\n",
       "      <th>95</th>\n",
       "      <td>-8.94</td>\n",
       "      <td>-8.99</td>\n",
       "    </tr>\n",
       "    <tr>\n",
       "      <th>96</th>\n",
       "      <td>14.44</td>\n",
       "      <td>14.38</td>\n",
       "    </tr>\n",
       "    <tr>\n",
       "      <th>97</th>\n",
       "      <td>-4.24</td>\n",
       "      <td>-4.30</td>\n",
       "    </tr>\n",
       "    <tr>\n",
       "      <th>98</th>\n",
       "      <td>9.56</td>\n",
       "      <td>9.50</td>\n",
       "    </tr>\n",
       "    <tr>\n",
       "      <th>99</th>\n",
       "      <td>-9.37</td>\n",
       "      <td>-9.43</td>\n",
       "    </tr>\n",
       "  </tbody>\n",
       "</table>\n",
       "<p>100 rows × 2 columns</p>\n",
       "</div>"
      ],
      "text/plain": [
       "      sgd    ols\n",
       "0    2.72   2.75\n",
       "1  -27.26 -27.23\n",
       "2  -21.93 -21.90\n",
       "3    8.81   8.84\n",
       "4  -26.41 -26.39\n",
       "..    ...    ...\n",
       "95  -8.94  -8.99\n",
       "96  14.44  14.38\n",
       "97  -4.24  -4.30\n",
       "98   9.56   9.50\n",
       "99  -9.37  -9.43\n",
       "\n",
       "[100 rows x 2 columns]"
      ]
     },
     "execution_count": 54,
     "metadata": {},
     "output_type": "execute_result"
    }
   ],
   "source": [
    "resids.pow(2).sum().div(len(y)).pow(0.5)\n",
    "resids"
   ]
  },
  {
   "cell_type": "code",
   "execution_count": 58,
   "metadata": {},
   "outputs": [
    {
     "data": {
      "text/plain": [
       "<Figure size 1008x432 with 0 Axes>"
      ]
     },
     "metadata": {},
     "output_type": "display_data"
    },
    {
     "data": {
      "image/png": "[encoded data removed]",
      "text/plain": [
       "<Figure size 432x288 with 1 Axes>"
      ]
     },
     "metadata": {},
     "output_type": "display_data"
    }
   ],
   "source": [
    "plt.figure(figsize=(14,6))\n",
    "resids.plot.scatter(x='sgd', y='ols')\n",
    "sns.despine()\n",
    "plt.tight_layout()"
   ]
  }
 ],
 "metadata": {
  "interpreter": {
   "hash": "8ee48af26e2321b41c3a1ae7441eedfe11a72057d4221c4474a53f1e461d14a0"
  },
  "kernelspec": {
   "display_name": "Python 3.8.9 64-bit ('env': venv)",
   "language": "python",
   "name": "python3"
  },
  "language_info": {
   "codemirror_mode": {
    "name": "ipython",
    "version": 3
   },
   "file_extension": ".py",
   "mimetype": "text/x-python",
   "name": "python",
   "nbconvert_exporter": "python",
   "pygments_lexer": "ipython3",
   "version": "3.8.9"
  },
  "orig_nbformat": 4
 },
 "nbformat": 4,
 "nbformat_minor": 2
}
